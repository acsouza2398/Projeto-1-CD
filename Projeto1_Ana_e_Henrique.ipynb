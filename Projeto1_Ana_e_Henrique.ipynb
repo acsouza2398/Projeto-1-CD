{
 "cells": [
  {
   "cell_type": "markdown",
   "metadata": {},
   "source": [
    "# Projeto 1 - Ciência dos Dados"
   ]
  },
  {
   "cell_type": "markdown",
   "metadata": {},
   "source": [
    "Nome: Ana Carolina\n",
    "\n",
    "Nome: Henrique Gabriel"
   ]
  },
  {
   "cell_type": "markdown",
   "metadata": {},
   "source": [
    "**Atenção:** Serão permitidos grupos de três pessoas, mas com uma rubrica mais exigente. Grupos deste tamanho precisarão fazer um questionário de avaliação de trabalho em equipe"
   ]
  },
  {
   "cell_type": "markdown",
   "metadata": {},
   "source": [
    "___\n",
    "Carregando algumas bibliotecas:"
   ]
  },
  {
   "cell_type": "code",
   "execution_count": 1,
   "metadata": {},
   "outputs": [],
   "source": [
    "%matplotlib inline\n",
    "import pandas as pd\n",
    "import matplotlib.pyplot as plt\n",
    "import numpy as np\n",
    "import os\n",
    "import re"
   ]
  },
  {
   "cell_type": "markdown",
   "metadata": {},
   "source": [
    "**Em `filename`, coloque o nome do seu arquivo de dados!**"
   ]
  },
  {
   "cell_type": "code",
   "execution_count": 2,
   "metadata": {
    "scrolled": false,
    "tags": []
   },
   "outputs": [
    {
     "output_type": "stream",
     "name": "stdout",
     "text": "Encontrei o arquivo BaseDeDadosProjeto1.xlsx, tudo certo para prosseguir com a prova!\n"
    }
   ],
   "source": [
    "import os\n",
    "\n",
    "filename = 'BaseDeDadosProjeto1.xlsx'\n",
    "if filename in os.listdir():\n",
    "    print(f'Encontrei o arquivo {filename}, tudo certo para prosseguir com a prova!')\n",
    "else:\n",
    "    print(f'Não encontrei o arquivo {filename} aqui no diretório {os.getcwd()}, será que você não baixou o arquivo?')"
   ]
  },
  {
   "cell_type": "markdown",
   "metadata": {},
   "source": [
    "Carregando a base de dados com os tweets classificados como relevantes e não relevantes:"
   ]
  },
  {
   "cell_type": "code",
   "execution_count": 3,
   "metadata": {},
   "outputs": [
    {
     "output_type": "execute_result",
     "data": {
      "text/plain": "                                         Treinamento  Avaliação\n0  @robsonbrito204 @isadorabasile mmmmeeeeeeu dee...          3\n1  @emvideogame @xramoses @playstation_br com ess...          5\n2  @eleitor73 @windowsclubbr playstation é forte ...          1\n3  @funimation_bra @ccxpoficial queria saber sobr...          5\n4  @fuck_off_matt eles vão ter que se acostumar c...          1",
      "text/html": "<div>\n<style scoped>\n    .dataframe tbody tr th:only-of-type {\n        vertical-align: middle;\n    }\n\n    .dataframe tbody tr th {\n        vertical-align: top;\n    }\n\n    .dataframe thead th {\n        text-align: right;\n    }\n</style>\n<table border=\"1\" class=\"dataframe\">\n  <thead>\n    <tr style=\"text-align: right;\">\n      <th></th>\n      <th>Treinamento</th>\n      <th>Avaliação</th>\n    </tr>\n  </thead>\n  <tbody>\n    <tr>\n      <th>0</th>\n      <td>@robsonbrito204 @isadorabasile mmmmeeeeeeu dee...</td>\n      <td>3</td>\n    </tr>\n    <tr>\n      <th>1</th>\n      <td>@emvideogame @xramoses @playstation_br com ess...</td>\n      <td>5</td>\n    </tr>\n    <tr>\n      <th>2</th>\n      <td>@eleitor73 @windowsclubbr playstation é forte ...</td>\n      <td>1</td>\n    </tr>\n    <tr>\n      <th>3</th>\n      <td>@funimation_bra @ccxpoficial queria saber sobr...</td>\n      <td>5</td>\n    </tr>\n    <tr>\n      <th>4</th>\n      <td>@fuck_off_matt eles vão ter que se acostumar c...</td>\n      <td>1</td>\n    </tr>\n  </tbody>\n</table>\n</div>"
     },
     "metadata": {},
     "execution_count": 3
    }
   ],
   "source": [
    "train = pd.read_excel(filename)\n",
    "train.head(5)"
   ]
  },
  {
   "cell_type": "code",
   "execution_count": 4,
   "metadata": {},
   "outputs": [
    {
     "output_type": "execute_result",
     "data": {
      "text/plain": "                                               Teste  Avaliação\n0  @facundini_ @izzynobre eles tem praticamente t...          2\n1  @traiinbe eu acho que se você é gamer hardcore...          1\n2  @monstrohormonal @diegolt85 @playstation_br pe...          5\n3  normalmente quem prefere android prefere xbox\\...          5\n4  borderlands 3 será lançado para playstation 5 ...          5",
      "text/html": "<div>\n<style scoped>\n    .dataframe tbody tr th:only-of-type {\n        vertical-align: middle;\n    }\n\n    .dataframe tbody tr th {\n        vertical-align: top;\n    }\n\n    .dataframe thead th {\n        text-align: right;\n    }\n</style>\n<table border=\"1\" class=\"dataframe\">\n  <thead>\n    <tr style=\"text-align: right;\">\n      <th></th>\n      <th>Teste</th>\n      <th>Avaliação</th>\n    </tr>\n  </thead>\n  <tbody>\n    <tr>\n      <th>0</th>\n      <td>@facundini_ @izzynobre eles tem praticamente t...</td>\n      <td>2</td>\n    </tr>\n    <tr>\n      <th>1</th>\n      <td>@traiinbe eu acho que se você é gamer hardcore...</td>\n      <td>1</td>\n    </tr>\n    <tr>\n      <th>2</th>\n      <td>@monstrohormonal @diegolt85 @playstation_br pe...</td>\n      <td>5</td>\n    </tr>\n    <tr>\n      <th>3</th>\n      <td>normalmente quem prefere android prefere xbox\\...</td>\n      <td>5</td>\n    </tr>\n    <tr>\n      <th>4</th>\n      <td>borderlands 3 será lançado para playstation 5 ...</td>\n      <td>5</td>\n    </tr>\n  </tbody>\n</table>\n</div>"
     },
     "metadata": {},
     "execution_count": 4
    }
   ],
   "source": [
    "test = pd.read_excel(filename, sheet_name = 'Teste')\n",
    "test.head(5)"
   ]
  },
  {
   "cell_type": "markdown",
   "metadata": {},
   "source": [
    "___\n",
    "## Classificador automático de sentimento\n"
   ]
  },
  {
   "cell_type": "markdown",
   "metadata": {},
   "source": [
    "Faça aqui uma descrição do seu produto e o que considerou como relevante ou não relevante na classificação dos tweets.\n",
    "\n",
    "`Tendo em vista o Projeto 1 da matéria de Ciência de Dados, proposto pela Professora Maria Kelly Venezuela, escolhemos os produtos Xbox e PlayStation, os quais são marcas de consoles desenvolvidos pela Microsoft e pela Sony, respectivamente. \n",
    "    Logo, consideramos como \"não relevante\" qualquer tipo de postagem que usasse o @ desses produtos apenas para promover algo próprio, como por exemplo um canal no YouTube, ou qualquer tipo de postagem que embora utilizasse dos nomes dos produtos, não se relacionava com o mesmo. \n",
    "    Assim consideramos como \"relevante\" qualquer tipo de postagem que trata-se de certa forma a opinião sobre os produtos em questão.`"
   ]
  },
  {
   "cell_type": "markdown",
   "metadata": {},
   "source": [
    "___\n",
    "### Montando um Classificador Naive-Bayes\n",
    "\n",
    "Considerando apenas as mensagens da planilha Treinamento, ensine  seu classificador."
   ]
  },
  {
   "cell_type": "code",
   "execution_count": 5,
   "metadata": {},
   "outputs": [],
   "source": [
    "#Célula com função para limpar o DF\n",
    "\n",
    "def cleanup(text):\n",
    "    \"\"\"\n",
    "        Função de limpeza muito simples que troca alguns sinais básicos por espaços\n",
    "    \"\"\"\n",
    "    #import string\n",
    "    punctuation = '[,!-.:?;]' # Note que os sinais [] são delimitadores de um conjunto.\n",
    "    pattern = re.compile(punctuation)\n",
    "    text_subbed = re.sub(pattern, '', text)\n",
    "    return text_subbed"
   ]
  },
  {
   "cell_type": "code",
   "execution_count": 6,
   "metadata": {},
   "outputs": [],
   "source": [
    "#Limpando o DF, transforando letras maiusculas em minusculas e passando o texto para uma lista de palavras\n",
    "\n",
    "todas_as_palavras_ps = []\n",
    "todas_as_palavras_indi = []\n",
    "todas_as_palavras_xbox = []\n",
    "todas_as_palavras_irr = []\n",
    "\n",
    "for i, texto in enumerate(train.Treinamento):\n",
    "    \n",
    "    texto = cleanup(str(texto).lower())\n",
    "    \n",
    "    if train.Avaliação[i] == 5:\n",
    "        todas_as_palavras_irr += texto.split()\n",
    "    \n",
    "    elif train.Avaliação[i] == 1: \n",
    "        todas_as_palavras_ps += texto.split()\n",
    "    \n",
    "    elif train.Avaliação[i] == 2: \n",
    "        todas_as_palavras_indi += texto.split()\n",
    "    \n",
    "    else:\n",
    "        todas_as_palavras_xbox += texto.split()"
   ]
  },
  {
   "cell_type": "code",
   "execution_count": 7,
   "metadata": {},
   "outputs": [],
   "source": [
    "#LISTA COM PALAVRAS COMUNS QUE PODEM SER \"LIMPADAS\" DO DF \n",
    "\n",
    "palavras_desnecessarias = [\"a\", \"o\", \"e\", \"da\", \"do\", \"em\", \"dos\", \"das\", \"que\", \"de\"]"
   ]
  },
  {
   "cell_type": "code",
   "execution_count": 8,
   "metadata": {},
   "outputs": [
    {
     "output_type": "execute_result",
     "data": {
      "text/plain": "['com',\n 'esse',\n 'reajuste',\n 'serviços',\n 'xbox',\n 'dá',\n 'mesmo',\n 'total',\n 'você',\n 'assinava']"
     },
     "metadata": {},
     "execution_count": 8
    }
   ],
   "source": [
    "#limpando @'s dos usuarios e palavras desnecessarias\n",
    "\n",
    "todas_as_palavras_irr_arroba = []\n",
    "\n",
    "for num, palavra in enumerate(todas_as_palavras_irr):\n",
    "    if (\"@\" not in palavra) and (palavra not in palavras_desnecessarias):\n",
    "        todas_as_palavras_irr_arroba.append(palavra)\n",
    "\n",
    "todas_as_palavras_irr_arroba[0:10]"
   ]
  },
  {
   "cell_type": "code",
   "execution_count": 9,
   "metadata": {},
   "outputs": [
    {
     "output_type": "execute_result",
     "data": {
      "text/plain": "['playstation',\n 'é',\n 'forte',\n 'no',\n 'mercado',\n 'europeu',\n 'asiático',\n 'também',\n 'tem',\n 'uma']"
     },
     "metadata": {},
     "execution_count": 9
    }
   ],
   "source": [
    "#limpando @'s dos usuarios e palavras desnecessarias\n",
    "\n",
    "todas_as_palavras_ps_arroba = []\n",
    "\n",
    "for num, palavra in enumerate(todas_as_palavras_ps):\n",
    "    if (\"@\" not in palavra) and (palavra not in palavras_desnecessarias):\n",
    "        todas_as_palavras_ps_arroba.append(palavra)\n",
    "\n",
    "todas_as_palavras_ps_arroba[0:10]"
   ]
  },
  {
   "cell_type": "code",
   "execution_count": 10,
   "metadata": {},
   "outputs": [
    {
     "output_type": "execute_result",
     "data": {
      "text/plain": "['conversando',\n 'com',\n 'um',\n 'amigo',\n 'cheguei',\n 'conclusão',\n 'na',\n 'década',\n '90',\n 'os']"
     },
     "metadata": {},
     "execution_count": 10
    }
   ],
   "source": [
    "#limpando @'s dos usuarios e palavras desnecessarias\n",
    "\n",
    "todas_as_palavras_indi_arroba = []\n",
    "\n",
    "for num, palavra in enumerate(todas_as_palavras_indi):\n",
    "    if (\"@\" not in palavra) and (palavra not in palavras_desnecessarias):\n",
    "        todas_as_palavras_indi_arroba.append(palavra)\n",
    "\n",
    "todas_as_palavras_indi_arroba[0:10]"
   ]
  },
  {
   "cell_type": "code",
   "execution_count": 11,
   "metadata": {},
   "outputs": [
    {
     "output_type": "execute_result",
     "data": {
      "text/plain": "['mmmmeeeeeeu',\n 'deeeeeeeeeeeeeeeuuuussss',\n 'retardado',\n 'joga',\n 'playstation',\n 'quer',\n 'exigir',\n 'uma',\n 'gtgtgt',\n 'apresentadora']"
     },
     "metadata": {},
     "execution_count": 11
    }
   ],
   "source": [
    "#limpando @'s dos usuarios e palavras desnecessarias\n",
    "\n",
    "todas_as_palavras_xbox_arroba = []\n",
    "\n",
    "for num, palavra in enumerate(todas_as_palavras_xbox):\n",
    "    if (\"@\" not in palavra) and (palavra not in palavras_desnecessarias):\n",
    "        todas_as_palavras_xbox_arroba.append(palavra)\n",
    "\n",
    "todas_as_palavras_xbox_arroba[0:10]"
   ]
  },
  {
   "cell_type": "code",
   "execution_count": 12,
   "metadata": {},
   "outputs": [],
   "source": [
    "#Transformando lista em um Series\n",
    "\n",
    "serie_palavras_irr = pd.Series(todas_as_palavras_irr_arroba)\n",
    "\n",
    "serie_palavras_ps = pd.Series(todas_as_palavras_ps_arroba)\n",
    "\n",
    "serie_palavras_indi = pd.Series(todas_as_palavras_indi_arroba)\n",
    "\n",
    "serie_palavras_xbox = pd.Series(todas_as_palavras_xbox_arroba)"
   ]
  },
  {
   "cell_type": "code",
   "execution_count": 13,
   "metadata": {},
   "outputs": [
    {
     "output_type": "execute_result",
     "data": {
      "text/plain": "xbox                     0.040561\nplaystation              0.034496\npara                     0.017058\nrt                       0.012509\nx                        0.012509\n                           ...   \nbladed                   0.000379\nfortnitebrasil           0.000379\nhttps//tco/sne3h4d7jc    0.000379\nninja                    0.000379\nportátil                 0.000379\nLength: 1162, dtype: float64"
     },
     "metadata": {},
     "execution_count": 13
    }
   ],
   "source": [
    "# Adquirindo a tabela de frequências relativas a partir de um dos Series criados acima\n",
    "\n",
    "tabela_tweets_relativa_irr = serie_palavras_irr.value_counts(True)\n",
    "tabela_tweets_relativa_irr"
   ]
  },
  {
   "cell_type": "code",
   "execution_count": 14,
   "metadata": {},
   "outputs": [
    {
     "output_type": "execute_result",
     "data": {
      "text/plain": "xbox           0.042032\nplaystation    0.029795\nnão            0.025273\né              0.024741\nmais           0.017824\n                 ...   \n2200           0.000266\noficial        0.000266\nlançado        0.000266\nproblema       0.000266\n449            0.000266\nLength: 1267, dtype: float64"
     },
     "metadata": {},
     "execution_count": 14
    }
   ],
   "source": [
    "# Adquirindo a tabela de frequências relativas a partir de um dos Series criados acima\n",
    "\n",
    "tabela_tweets_relativa_ps = serie_palavras_ps.value_counts(True)\n",
    "tabela_tweets_relativa_ps"
   ]
  },
  {
   "cell_type": "code",
   "execution_count": 15,
   "metadata": {},
   "outputs": [
    {
     "output_type": "execute_result",
     "data": {
      "text/plain": "xbox            0.043510\nplaystation     0.037037\nnão             0.017620\né               0.017260\nno              0.015102\n                  ...   \nprofessional    0.000360\nbandainamco     0.000360\npopular         0.000360\n3000            0.000360\ngenquero        0.000360\nLength: 1101, dtype: float64"
     },
     "metadata": {},
     "execution_count": 15
    }
   ],
   "source": [
    "# Adquirindo a tabela de frequências relativas a partir de um dos Series criados acima\n",
    "\n",
    "tabela_tweets_relativa_indi = serie_palavras_indi.value_counts(True)\n",
    "tabela_tweets_relativa_indi"
   ]
  },
  {
   "cell_type": "code",
   "execution_count": 16,
   "metadata": {},
   "outputs": [
    {
     "output_type": "execute_result",
     "data": {
      "text/plain": "xbox           0.045388\nplaystation    0.030357\né              0.029472\nnão            0.021515\nmais           0.018273\n                 ...   \nexclui         0.000295\nshadow         0.000295\nmultiplayer    0.000295\nlargar         0.000295\npouco          0.000295\nLength: 1162, dtype: float64"
     },
     "metadata": {},
     "execution_count": 16
    }
   ],
   "source": [
    "# Adquirindo a tabela de frequências relativas a partir de um dos Series criados acima\n",
    "\n",
    "tabela_tweets_relativa_xbox = serie_palavras_xbox.value_counts(True)\n",
    "tabela_tweets_relativa_xbox"
   ]
  },
  {
   "cell_type": "code",
   "execution_count": 17,
   "metadata": {},
   "outputs": [],
   "source": [
    "#Limpando o DF, transforando letras maiusculas em minusculas e passando o texto para uma lista de palavras que representaram o conjunto LÍNGUA PORTUGUESA\n",
    "\n",
    "todas_as_palavras_test = []\n",
    "\n",
    "for texto in test.Teste:\n",
    "    texto = cleanup(str(texto).lower())\n",
    "    todas_as_palavras_test += texto.split()"
   ]
  },
  {
   "cell_type": "code",
   "execution_count": 18,
   "metadata": {},
   "outputs": [
    {
     "output_type": "execute_result",
     "data": {
      "text/plain": "xbox                  0.043945\nplaystation           0.032678\né                     0.020344\nnão                   0.017354\nmais                  0.013189\n                        ...   \ninstalike             0.000053\nsabese                0.000053\nmodernwarfareclips    0.000053\n😌📌                    0.000053\nsla                   0.000053\nLength: 4171, dtype: float64"
     },
     "metadata": {},
     "execution_count": 18
    }
   ],
   "source": [
    "#Transformando lista em um Series e adquirindo a tabela de frequências relativas a partir de um mesmo Series.\n",
    "\n",
    "portugues = todas_as_palavras_irr + todas_as_palavras_ps + todas_as_palavras_test + todas_as_palavras_indi + todas_as_palavras_xbox\n",
    "\n",
    "#limpando @'s dos usuarios e palavras desnecessarias\n",
    "\n",
    "portugues_arroba = []\n",
    "\n",
    "for num, palavra in enumerate(portugues):\n",
    "    if (\"@\" not in palavra) and (palavra not in palavras_desnecessarias):\n",
    "        portugues_arroba.append(palavra)\n",
    "\n",
    "\n",
    "serie_portugues = pd.Series(portugues_arroba)\n",
    "tabela_portugues_relativa = serie_portugues.value_counts(True)\n",
    "tabela_portugues_relativa"
   ]
  },
  {
   "cell_type": "code",
   "execution_count": 19,
   "metadata": {},
   "outputs": [],
   "source": [
    "#Dividindo entre Relevante ou Não Relevante de acordo com nossos critérios e nossas considerações\n",
    "\n",
    "test.loc[(test.Avaliação == 5),\"Rel_Or_Not\"] = 'Not relevant'\n",
    "test.loc[(test.Avaliação == 1),\"Rel_Or_Not\"] = 'PlayStation'\n",
    "test.loc[(test.Avaliação == 2),'Rel_Or_Not'] = 'Indifferent'\n",
    "test.loc[(test.Avaliação == 3),'Rel_Or_Not'] = 'Xbox'"
   ]
  },
  {
   "cell_type": "code",
   "execution_count": 20,
   "metadata": {
    "tags": []
   },
   "outputs": [
    {
     "output_type": "stream",
     "name": "stdout",
     "text": "probPS: 0.25\nprobINDI: 0.25\nprobXBOX: 0.25\nprobIRRE: 0.25\n"
    }
   ],
   "source": [
    "# Calculando as probabilidades relativas de cada categoria \n",
    "\n",
    "# prob_rel_or_not = test.Avaliação.value_counts(True, sort=False)\n",
    "\n",
    "# probPS = prob_rel_or_not[1]\n",
    "# probINDI = prob_rel_or_not[2]\n",
    "# probXBOX = prob_rel_or_not[3]\n",
    "# probIRRE = prob_rel_or_not[5]\n",
    "\n",
    "# probREL = probINDI + probPS + probXBOX\n",
    "\n",
    "probPS = 0.25\n",
    "probINDI = 0.25\n",
    "probXBOX = 0.25\n",
    "probIRRE = 0.25\n",
    "\n",
    "\n",
    "\n",
    "\n",
    "print(\"probPS:\",probPS)\n",
    "print(\"probINDI:\",probINDI)\n",
    "print(\"probXBOX:\",probXBOX)\n",
    "print(\"probIRRE:\",probIRRE)"
   ]
  },
  {
   "cell_type": "code",
   "execution_count": 21,
   "metadata": {},
   "outputs": [],
   "source": [
    "for n, tweet in enumerate(test.Teste):\n",
    "\n",
    "    prob_tweet = 0\n",
    "\n",
    "    tweet = cleanup(str(tweet).lower())\n",
    "    tweet = tweet.split()\n",
    "\n",
    "    for i, word in enumerate(tweet):\n",
    "        if (word in todas_as_palavras_irr_arroba) or (word in todas_as_palavras_ps_arroba) or (word in todas_as_palavras_indi_arroba) or (word in todas_as_palavras_xbox_arroba):\n",
    "            if prob_tweet == 0:\n",
    "                prob_tweet = (tabela_portugues_relativa[word] + 1)\n",
    "            else:\n",
    "                prob_tweet = prob_tweet * (tabela_portugues_relativa[word] + 1)\n",
    "\n",
    "    test.loc[n,'ProbTweet'] = prob_tweet / (i + 1)"
   ]
  },
  {
   "cell_type": "code",
   "execution_count": 22,
   "metadata": {},
   "outputs": [],
   "source": [
    "#CALCULANDO A PROBABILIDADE DE UM TWEET DADO QUE É IRRELEVANTE (USANDO SUAVISAÇÃO DE LA PLACE)\n",
    "\n",
    "for n, tweet in enumerate(test.Teste):\n",
    "\n",
    "    prob_tweet = 0\n",
    "\n",
    "    tweet = cleanup(str(tweet).lower())\n",
    "    tweet = tweet.split()\n",
    "\n",
    "    for i, word in enumerate(tweet):\n",
    "        if word in todas_as_palavras_irr_arroba:\n",
    "            if prob_tweet == 0:\n",
    "                prob_tweet = (tabela_tweets_relativa_irr[word] + 1)\n",
    "            else:\n",
    "                prob_tweet = prob_tweet * (tabela_tweets_relativa_irr[word] + 1)\n",
    "        else:\n",
    "            if prob_tweet == 0:\n",
    "                prob_tweet = 1\n",
    "            else:\n",
    "                prob_tweet = prob_tweet\n",
    "        \n",
    "    test.loc[n,'ProbTweet_IRR'] = prob_tweet / (i + 1)"
   ]
  },
  {
   "cell_type": "code",
   "execution_count": 23,
   "metadata": {},
   "outputs": [],
   "source": [
    "#CALCULANDO A PROBABILIDADE DE UM TWEET DADO QUE PLAYSTATION É A CATEGORIA (USANDO SUAVISAÇÃO DE LA PLACE)\n",
    "\n",
    "for n, tweet in enumerate(test.Teste):\n",
    "\n",
    "    prob_tweet = 0\n",
    "\n",
    "    tweet = cleanup(str(tweet).lower())\n",
    "    tweet = tweet.split()\n",
    "\n",
    "    for i, word in enumerate(tweet):\n",
    "        if word in todas_as_palavras_ps_arroba:\n",
    "            if prob_tweet == 0:\n",
    "                prob_tweet = (tabela_tweets_relativa_ps[word] + 1)\n",
    "            else:\n",
    "                prob_tweet = prob_tweet * (tabela_tweets_relativa_ps[word] + 1)\n",
    "        else:\n",
    "            if prob_tweet == 0:\n",
    "                prob_tweet = 1\n",
    "            else:\n",
    "                prob_tweet = prob_tweet\n",
    "        \n",
    "    test.loc[n,'ProbTweet_PS'] = prob_tweet / (i + 1)"
   ]
  },
  {
   "cell_type": "code",
   "execution_count": 24,
   "metadata": {},
   "outputs": [],
   "source": [
    "#CALCULANDO A PROBABILIDADE DE UM TWEET DADO QUE É INDIFERENTE (USANDO SUAVISAÇÃO DE LA PLACE)\n",
    "\n",
    "for n, tweet in enumerate(test.Teste):\n",
    "\n",
    "    prob_tweet = 0\n",
    "\n",
    "    tweet = cleanup(str(tweet).lower())\n",
    "    tweet = tweet.split()\n",
    "\n",
    "    for i, word in enumerate(tweet):\n",
    "        if word in todas_as_palavras_indi_arroba:\n",
    "            if prob_tweet == 0:\n",
    "                prob_tweet = (tabela_tweets_relativa_indi[word] + 1)\n",
    "            else:\n",
    "                prob_tweet = prob_tweet * (tabela_tweets_relativa_indi[word] + 1)\n",
    "        else:\n",
    "            if prob_tweet == 0:\n",
    "                prob_tweet = 1\n",
    "            else:\n",
    "                prob_tweet = prob_tweet\n",
    "        \n",
    "    test.loc[n,'ProbTweet_INDI'] = prob_tweet / (i + 1)"
   ]
  },
  {
   "cell_type": "code",
   "execution_count": 25,
   "metadata": {},
   "outputs": [],
   "source": [
    "#CALCULANDO A PROBABILIDADE DE UM TWEET DADO QUE XBOX É A CATEGORIA (USANDO SUAVISAÇÃO DE LA PLACE)\n",
    "\n",
    "for n, tweet in enumerate(test.Teste):\n",
    "\n",
    "    prob_tweet = 0\n",
    "\n",
    "    tweet = cleanup(str(tweet).lower())\n",
    "    tweet = tweet.split()\n",
    "\n",
    "    for i, word in enumerate(tweet):\n",
    "        if word in todas_as_palavras_xbox_arroba:\n",
    "            if prob_tweet == 0:\n",
    "                prob_tweet = (tabela_tweets_relativa_xbox[word] + 1)\n",
    "            else:\n",
    "                prob_tweet = prob_tweet * (tabela_tweets_relativa_xbox[word] + 1)\n",
    "        else:\n",
    "            if prob_tweet == 0:\n",
    "                prob_tweet = 1\n",
    "            else:\n",
    "                prob_tweet = prob_tweet\n",
    "        \n",
    "    test.loc[n,'ProbTweet_XBOX'] = prob_tweet / (i + 1)"
   ]
  },
  {
   "cell_type": "code",
   "execution_count": 26,
   "metadata": {},
   "outputs": [
    {
     "output_type": "execute_result",
     "data": {
      "text/plain": "                                               Teste  Avaliação    Rel_Or_Not  \\\n0  @facundini_ @izzynobre eles tem praticamente t...          2   Indifferent   \n1  @traiinbe eu acho que se você é gamer hardcore...          1   PlayStation   \n2  @monstrohormonal @diegolt85 @playstation_br pe...          5  Not relevant   \n3  normalmente quem prefere android prefere xbox\\...          5  Not relevant   \n4  borderlands 3 será lançado para playstation 5 ...          5  Not relevant   \n\n   ProbTweet  ProbTweet_IRR  ProbTweet_PS  ProbTweet_INDI  ProbTweet_XBOX  \n0   0.025152       0.023014      0.026097        0.025154        0.025801  \n1   0.032916       0.031048      0.033468        0.032848        0.033593  \n2   0.038366       0.038117      0.038307        0.038202        0.038516  \n3   0.090444       0.090216      0.089995        0.090635        0.090449  \n4   0.092572       0.094496      0.090932        0.094005        0.091627  ",
      "text/html": "<div>\n<style scoped>\n    .dataframe tbody tr th:only-of-type {\n        vertical-align: middle;\n    }\n\n    .dataframe tbody tr th {\n        vertical-align: top;\n    }\n\n    .dataframe thead th {\n        text-align: right;\n    }\n</style>\n<table border=\"1\" class=\"dataframe\">\n  <thead>\n    <tr style=\"text-align: right;\">\n      <th></th>\n      <th>Teste</th>\n      <th>Avaliação</th>\n      <th>Rel_Or_Not</th>\n      <th>ProbTweet</th>\n      <th>ProbTweet_IRR</th>\n      <th>ProbTweet_PS</th>\n      <th>ProbTweet_INDI</th>\n      <th>ProbTweet_XBOX</th>\n    </tr>\n  </thead>\n  <tbody>\n    <tr>\n      <th>0</th>\n      <td>@facundini_ @izzynobre eles tem praticamente t...</td>\n      <td>2</td>\n      <td>Indifferent</td>\n      <td>0.025152</td>\n      <td>0.023014</td>\n      <td>0.026097</td>\n      <td>0.025154</td>\n      <td>0.025801</td>\n    </tr>\n    <tr>\n      <th>1</th>\n      <td>@traiinbe eu acho que se você é gamer hardcore...</td>\n      <td>1</td>\n      <td>PlayStation</td>\n      <td>0.032916</td>\n      <td>0.031048</td>\n      <td>0.033468</td>\n      <td>0.032848</td>\n      <td>0.033593</td>\n    </tr>\n    <tr>\n      <th>2</th>\n      <td>@monstrohormonal @diegolt85 @playstation_br pe...</td>\n      <td>5</td>\n      <td>Not relevant</td>\n      <td>0.038366</td>\n      <td>0.038117</td>\n      <td>0.038307</td>\n      <td>0.038202</td>\n      <td>0.038516</td>\n    </tr>\n    <tr>\n      <th>3</th>\n      <td>normalmente quem prefere android prefere xbox\\...</td>\n      <td>5</td>\n      <td>Not relevant</td>\n      <td>0.090444</td>\n      <td>0.090216</td>\n      <td>0.089995</td>\n      <td>0.090635</td>\n      <td>0.090449</td>\n    </tr>\n    <tr>\n      <th>4</th>\n      <td>borderlands 3 será lançado para playstation 5 ...</td>\n      <td>5</td>\n      <td>Not relevant</td>\n      <td>0.092572</td>\n      <td>0.094496</td>\n      <td>0.090932</td>\n      <td>0.094005</td>\n      <td>0.091627</td>\n    </tr>\n  </tbody>\n</table>\n</div>"
     },
     "metadata": {},
     "execution_count": 26
    }
   ],
   "source": [
    "test.head()"
   ]
  },
  {
   "cell_type": "markdown",
   "metadata": {},
   "source": [
    "___\n",
    "### Verificando a performance do Classificador\n",
    "\n",
    "Agora você deve testar o seu classificador com a base de Testes."
   ]
  },
  {
   "cell_type": "code",
   "execution_count": 27,
   "metadata": {},
   "outputs": [],
   "source": [
    "for n, tweet in enumerate(test.Teste):\n",
    "    \n",
    "    prob_irr_dado_tweet = test.loc[n, 'ProbTweet_IRR'] * probIRRE / test.loc[n, 'ProbTweet']\n",
    "    prob_ps_dado_tweet = test.loc[n, 'ProbTweet_PS'] * probPS / test.loc[n, 'ProbTweet']\n",
    "    prob_indi_dado_tweet = test.loc[n, 'ProbTweet_INDI'] * probINDI / test.loc[n, 'ProbTweet']\n",
    "    prob_xbox_dado_tweet = test.loc[n, 'ProbTweet_XBOX'] * probXBOX / test.loc[n, 'ProbTweet']\n",
    "\n",
    "    lista_para_ver_maior_prob = [prob_irr_dado_tweet, prob_ps_dado_tweet, prob_indi_dado_tweet, prob_xbox_dado_tweet]\n",
    "\n",
    "    if max(lista_para_ver_maior_prob) == prob_irr_dado_tweet:\n",
    "        test.loc[n,\"ClassByCategoria\"] = \"Not relevant\"\n",
    "    \n",
    "    elif max(lista_para_ver_maior_prob) == prob_ps_dado_tweet:\n",
    "        test.loc[n,\"ClassByCategoria\"] = \"PlayStation\"\n",
    "    \n",
    "    elif max(lista_para_ver_maior_prob) == prob_indi_dado_tweet:\n",
    "        test.loc[n,\"ClassByCategoria\"] = \"Indifferent\"\n",
    "    \n",
    "    else:\n",
    "        test.loc[n,\"ClassByCategoria\"] = \"Xbox\""
   ]
  },
  {
   "cell_type": "code",
   "execution_count": 28,
   "metadata": {},
   "outputs": [
    {
     "output_type": "execute_result",
     "data": {
      "text/plain": "ClassByCategoria  Indifferent  Not relevant  PlayStation  Xbox\nRel_Or_Not                                                    \nIndifferent                12             2            7    13\nNot relevant               18            42           11    17\nPlayStation                15             1           17    41\nXbox                       28             2           16    35",
      "text/html": "<div>\n<style scoped>\n    .dataframe tbody tr th:only-of-type {\n        vertical-align: middle;\n    }\n\n    .dataframe tbody tr th {\n        vertical-align: top;\n    }\n\n    .dataframe thead th {\n        text-align: right;\n    }\n</style>\n<table border=\"1\" class=\"dataframe\">\n  <thead>\n    <tr style=\"text-align: right;\">\n      <th>ClassByCategoria</th>\n      <th>Indifferent</th>\n      <th>Not relevant</th>\n      <th>PlayStation</th>\n      <th>Xbox</th>\n    </tr>\n    <tr>\n      <th>Rel_Or_Not</th>\n      <th></th>\n      <th></th>\n      <th></th>\n      <th></th>\n    </tr>\n  </thead>\n  <tbody>\n    <tr>\n      <th>Indifferent</th>\n      <td>12</td>\n      <td>2</td>\n      <td>7</td>\n      <td>13</td>\n    </tr>\n    <tr>\n      <th>Not relevant</th>\n      <td>18</td>\n      <td>42</td>\n      <td>11</td>\n      <td>17</td>\n    </tr>\n    <tr>\n      <th>PlayStation</th>\n      <td>15</td>\n      <td>1</td>\n      <td>17</td>\n      <td>41</td>\n    </tr>\n    <tr>\n      <th>Xbox</th>\n      <td>28</td>\n      <td>2</td>\n      <td>16</td>\n      <td>35</td>\n    </tr>\n  </tbody>\n</table>\n</div>"
     },
     "metadata": {},
     "execution_count": 28
    }
   ],
   "source": [
    "pd.crosstab(test.Rel_Or_Not, test.ClassByCategoria)"
   ]
  },
  {
   "cell_type": "code",
   "execution_count": 29,
   "metadata": {},
   "outputs": [
    {
     "output_type": "execute_result",
     "data": {
      "text/plain": "ClassByCategoria  Indifferent  Not relevant  PlayStation       Xbox\nRel_Or_Not                                                         \nIndifferent         35.294118      5.882353    20.588235  38.235294\nNot relevant        20.454545     47.727273    12.500000  19.318182\nPlayStation         20.270270      1.351351    22.972973  55.405405\nXbox                34.567901      2.469136    19.753086  43.209877",
      "text/html": "<div>\n<style scoped>\n    .dataframe tbody tr th:only-of-type {\n        vertical-align: middle;\n    }\n\n    .dataframe tbody tr th {\n        vertical-align: top;\n    }\n\n    .dataframe thead th {\n        text-align: right;\n    }\n</style>\n<table border=\"1\" class=\"dataframe\">\n  <thead>\n    <tr style=\"text-align: right;\">\n      <th>ClassByCategoria</th>\n      <th>Indifferent</th>\n      <th>Not relevant</th>\n      <th>PlayStation</th>\n      <th>Xbox</th>\n    </tr>\n    <tr>\n      <th>Rel_Or_Not</th>\n      <th></th>\n      <th></th>\n      <th></th>\n      <th></th>\n    </tr>\n  </thead>\n  <tbody>\n    <tr>\n      <th>Indifferent</th>\n      <td>35.294118</td>\n      <td>5.882353</td>\n      <td>20.588235</td>\n      <td>38.235294</td>\n    </tr>\n    <tr>\n      <th>Not relevant</th>\n      <td>20.454545</td>\n      <td>47.727273</td>\n      <td>12.500000</td>\n      <td>19.318182</td>\n    </tr>\n    <tr>\n      <th>PlayStation</th>\n      <td>20.270270</td>\n      <td>1.351351</td>\n      <td>22.972973</td>\n      <td>55.405405</td>\n    </tr>\n    <tr>\n      <th>Xbox</th>\n      <td>34.567901</td>\n      <td>2.469136</td>\n      <td>19.753086</td>\n      <td>43.209877</td>\n    </tr>\n  </tbody>\n</table>\n</div>"
     },
     "metadata": {},
     "execution_count": 29
    }
   ],
   "source": [
    "pd.crosstab(test.Rel_Or_Not, test.ClassByCategoria, normalize = \"index\")*100"
   ]
  },
  {
   "cell_type": "code",
   "execution_count": 31,
   "metadata": {
    "tags": []
   },
   "outputs": [
    {
     "output_type": "stream",
     "name": "stdout",
     "text": "O modelo classificou corretamente 38.27% dos dados de treinamento.\nO modelo classificou errado 61.73% dos dados de treinamento.\n"
    }
   ],
   "source": [
    "anali1 = test.Rel_Or_Not == \"Indifferent\"\n",
    "anali2 = test.Rel_Or_Not == \"Not relevant\"\n",
    "anali3 = test.Rel_Or_Not == \"PlayStation\"\n",
    "anali4 = test.Rel_Or_Not == \"Xbox\"\n",
    "\n",
    "resul1 = test.ClassByCategoria == \"Indifferent\"\n",
    "resul2 = test.ClassByCategoria == \"Not relevant\"\n",
    "resul3 = test.ClassByCategoria == \"PlayStation\"\n",
    "resul4 = test.ClassByCategoria == \"Xbox\"\n",
    "\n",
    "acerto_indi = test.loc[anali1 & resul1, :]\n",
    "acerto_irre = test.loc[anali2 & resul2, :]\n",
    "acerto_ps = test.loc[anali3 & resul3, :]\n",
    "acerto_xbox = test.loc[anali4 & resul4, :]\n",
    "\n",
    "\n",
    "acerto = (len(acerto_indi) + len(acerto_irre) + len(acerto_ps) + len(acerto_xbox))/len(test)*100      \n",
    "print(f\"O modelo classificou corretamente {acerto :.2f}% dos dados de treinamento.\")\n",
    "\n",
    "erro = 100 - acerto  \n",
    "print(f\"O modelo classificou errado {erro :.2f}% dos dados de treinamento.\")"
   ]
  },
  {
   "cell_type": "markdown",
   "metadata": {},
   "source": [
    "___\n",
    "### Concluindo"
   ]
  },
  {
   "cell_type": "code",
   "execution_count": null,
   "metadata": {},
   "outputs": [],
   "source": []
  },
  {
   "cell_type": "code",
   "execution_count": null,
   "metadata": {},
   "outputs": [],
   "source": []
  },
  {
   "cell_type": "markdown",
   "metadata": {},
   "source": [
    "___\n",
    "## Aperfeiçoamento:\n",
    "\n",
    "Os trabalhos vão evoluir em conceito dependendo da quantidade de itens avançados:\n",
    "\n",
    "* `Limpar: \\n, :, \", ', (, ), etc SEM remover emojis`\n",
    "* Corrigir separação de espaços entre palavras e emojis ou entre emojis e emojis\n",
    "* `Propor outras limpezas e transformações que não afetem a qualidade da informação ou classificação`\n",
    "* `Criar categorias intermediárias de relevância baseadas na probabilidade: ex.: muito relevante, relevante, neutro, irrelevante, muito irrelevante (3 categorias: C, mais categorias conta para B)`\n",
    "* `Explicar por que não posso usar o próprio classificador para gerar mais amostras de treinamento`\n",
    "* `Propor diferentes cenários para Naïve Bayes fora do contexto do projeto`\n",
    "* `Sugerir e explicar melhorias reais com indicações concretas de como implementar (indicar como fazer e indicar material de pesquisa)`\n",
    "* Montar um dashboard que realiza análise de sentimento e visualiza estes dados"
   ]
  },
  {
   "cell_type": "markdown",
   "metadata": {},
   "source": [
    "___\n",
    "## Referências"
   ]
  },
  {
   "cell_type": "markdown",
   "metadata": {},
   "source": [
    "[Naive Bayes and Text Classification](https://arxiv.org/pdf/1410.5329.pdf)  **Mais completo**\n",
    "\n",
    "[A practical explanation of a Naive Bayes Classifier](https://monkeylearn.com/blog/practical-explanation-naive-bayes-classifier/) **Mais simples**"
   ]
  },
  {
   "cell_type": "code",
   "execution_count": null,
   "metadata": {},
   "outputs": [],
   "source": []
  }
 ],
 "metadata": {
  "kernelspec": {
   "display_name": "Python 3",
   "language": "python",
   "name": "python3"
  },
  "language_info": {
   "codemirror_mode": {
    "name": "ipython",
    "version": 3
   },
   "file_extension": ".py",
   "mimetype": "text/x-python",
   "name": "python",
   "nbconvert_exporter": "python",
   "pygments_lexer": "ipython3",
   "version": "3.8.3-final"
  }
 },
 "nbformat": 4,
 "nbformat_minor": 4
}