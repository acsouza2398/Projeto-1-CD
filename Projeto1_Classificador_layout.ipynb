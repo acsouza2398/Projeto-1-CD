{
 "cells": [
  {
   "cell_type": "markdown",
   "metadata": {},
   "source": [
    "# Projeto 1 - Ciência dos Dados"
   ]
  },
  {
   "cell_type": "markdown",
   "metadata": {},
   "source": [
    "Nome: Henrique Gabriel Oliveira Silva\n",
    "\n",
    "Nome: Ana Carolina "
   ]
  },
  {
   "cell_type": "markdown",
   "metadata": {},
   "source": [
    "**Atenção:** Serão permitidos grupos de três pessoas, mas com uma rubrica mais exigente. Grupos deste tamanho precisarão fazer um questionário de avaliação de trabalho em equipe"
   ]
  },
  {
   "cell_type": "markdown",
   "metadata": {},
   "source": [
    "___\n",
    "Carregando algumas bibliotecas:"
   ]
  },
  {
   "cell_type": "code",
   "execution_count": 47,
   "metadata": {},
   "outputs": [],
   "source": [
    "#importando bibliotecas que serão utilizadas\n",
    "\n",
    "%matplotlib inline\n",
    "import pandas as pd\n",
    "import matplotlib.pyplot as plt\n",
    "import numpy as np\n",
    "import os\n",
    "import re"
   ]
  },
  {
   "cell_type": "markdown",
   "metadata": {},
   "source": [
    "**Em `filename`, coloque o nome do seu arquivo de dados!**"
   ]
  },
  {
   "cell_type": "code",
   "execution_count": 48,
   "metadata": {
    "scrolled": false,
    "tags": []
   },
   "outputs": [
    {
     "name": "stdout",
     "output_type": "stream",
     "text": [
      "Encontrei o arquivo BaseDeDadosProjeto1.xlsx, tudo certo para prosseguir com a prova!\n"
     ]
    }
   ],
   "source": [
    "import os\n",
    "\n",
    "filename = \"BaseDeDadosProjeto1.xlsx\"\n",
    "if filename in os.listdir():\n",
    "    print(f'Encontrei o arquivo {filename}, tudo certo para prosseguir com a prova!')\n",
    "else:\n",
    "    print(f'Não encontrei o arquivo {filename} aqui no diretório {os.getcwd()}, será que você não baixou o arquivo?')"
   ]
  },
  {
   "cell_type": "markdown",
   "metadata": {},
   "source": [
    "Carregando a base de dados com os tweets classificados como relevantes e não relevantes:"
   ]
  },
  {
   "cell_type": "code",
   "execution_count": 49,
   "metadata": {},
   "outputs": [
    {
     "data": {
      "text/html": [
       "<div>\n",
       "<style scoped>\n",
       "    .dataframe tbody tr th:only-of-type {\n",
       "        vertical-align: middle;\n",
       "    }\n",
       "\n",
       "    .dataframe tbody tr th {\n",
       "        vertical-align: top;\n",
       "    }\n",
       "\n",
       "    .dataframe thead th {\n",
       "        text-align: right;\n",
       "    }\n",
       "</style>\n",
       "<table border=\"1\" class=\"dataframe\">\n",
       "  <thead>\n",
       "    <tr style=\"text-align: right;\">\n",
       "      <th></th>\n",
       "      <th>Treinamento</th>\n",
       "      <th>Avaliação</th>\n",
       "    </tr>\n",
       "  </thead>\n",
       "  <tbody>\n",
       "    <tr>\n",
       "      <th>0</th>\n",
       "      <td>@robsonbrito204 @isadorabasile mmmmeeeeeeu dee...</td>\n",
       "      <td>3</td>\n",
       "    </tr>\n",
       "    <tr>\n",
       "      <th>1</th>\n",
       "      <td>@emvideogame @xramoses @playstation_br com ess...</td>\n",
       "      <td>5</td>\n",
       "    </tr>\n",
       "    <tr>\n",
       "      <th>2</th>\n",
       "      <td>@eleitor73 @windowsclubbr playstation é forte ...</td>\n",
       "      <td>1</td>\n",
       "    </tr>\n",
       "    <tr>\n",
       "      <th>3</th>\n",
       "      <td>@funimation_bra @ccxpoficial queria saber sobr...</td>\n",
       "      <td>5</td>\n",
       "    </tr>\n",
       "    <tr>\n",
       "      <th>4</th>\n",
       "      <td>@fuck_off_matt eles vão ter que se acostumar c...</td>\n",
       "      <td>1</td>\n",
       "    </tr>\n",
       "  </tbody>\n",
       "</table>\n",
       "</div>"
      ],
      "text/plain": [
       "                                         Treinamento  Avaliação\n",
       "0  @robsonbrito204 @isadorabasile mmmmeeeeeeu dee...          3\n",
       "1  @emvideogame @xramoses @playstation_br com ess...          5\n",
       "2  @eleitor73 @windowsclubbr playstation é forte ...          1\n",
       "3  @funimation_bra @ccxpoficial queria saber sobr...          5\n",
       "4  @fuck_off_matt eles vão ter que se acostumar c...          1"
      ]
     },
     "execution_count": 49,
     "metadata": {},
     "output_type": "execute_result"
    }
   ],
   "source": [
    "# DataFrame que será utilizado para treinar o modelo\n",
    "\n",
    "train = pd.read_excel(filename)\n",
    "train.head()"
   ]
  },
  {
   "cell_type": "code",
   "execution_count": 50,
   "metadata": {},
   "outputs": [
    {
     "data": {
      "text/html": [
       "<div>\n",
       "<style scoped>\n",
       "    .dataframe tbody tr th:only-of-type {\n",
       "        vertical-align: middle;\n",
       "    }\n",
       "\n",
       "    .dataframe tbody tr th {\n",
       "        vertical-align: top;\n",
       "    }\n",
       "\n",
       "    .dataframe thead th {\n",
       "        text-align: right;\n",
       "    }\n",
       "</style>\n",
       "<table border=\"1\" class=\"dataframe\">\n",
       "  <thead>\n",
       "    <tr style=\"text-align: right;\">\n",
       "      <th></th>\n",
       "      <th>Teste</th>\n",
       "      <th>Avaliação</th>\n",
       "    </tr>\n",
       "  </thead>\n",
       "  <tbody>\n",
       "    <tr>\n",
       "      <th>0</th>\n",
       "      <td>@facundini_ @izzynobre eles tem praticamente t...</td>\n",
       "      <td>2</td>\n",
       "    </tr>\n",
       "    <tr>\n",
       "      <th>1</th>\n",
       "      <td>@traiinbe eu acho que se você é gamer hardcore...</td>\n",
       "      <td>1</td>\n",
       "    </tr>\n",
       "    <tr>\n",
       "      <th>2</th>\n",
       "      <td>@monstrohormonal @diegolt85 @playstation_br pe...</td>\n",
       "      <td>5</td>\n",
       "    </tr>\n",
       "    <tr>\n",
       "      <th>3</th>\n",
       "      <td>normalmente quem prefere android prefere xbox\\...</td>\n",
       "      <td>5</td>\n",
       "    </tr>\n",
       "    <tr>\n",
       "      <th>4</th>\n",
       "      <td>borderlands 3 será lançado para playstation 5 ...</td>\n",
       "      <td>5</td>\n",
       "    </tr>\n",
       "  </tbody>\n",
       "</table>\n",
       "</div>"
      ],
      "text/plain": [
       "                                               Teste  Avaliação\n",
       "0  @facundini_ @izzynobre eles tem praticamente t...          2\n",
       "1  @traiinbe eu acho que se você é gamer hardcore...          1\n",
       "2  @monstrohormonal @diegolt85 @playstation_br pe...          5\n",
       "3  normalmente quem prefere android prefere xbox\\...          5\n",
       "4  borderlands 3 será lançado para playstation 5 ...          5"
      ]
     },
     "execution_count": 50,
     "metadata": {},
     "output_type": "execute_result"
    }
   ],
   "source": [
    "# DataFrame que será utilizado para testar o modelo\n",
    "\n",
    "test = pd.read_excel(filename, sheet_name = 'Teste')\n",
    "test.head(5)"
   ]
  },
  {
   "cell_type": "markdown",
   "metadata": {},
   "source": [
    "___\n",
    "## Classificador automático de sentimento\n"
   ]
  },
  {
   "cell_type": "markdown",
   "metadata": {},
   "source": [
    "Faça aqui uma descrição do seu produto e o que considerou como relevante ou não relevante na classificação dos tweets.\n",
    "\n",
    "    `Tendo em vista o Projeto 1 da matéria de Ciência de Dados, proposto pela Professora Maria Kelly Venezuela, escolhemos os produtos Xbox e PlayStation, os quais são marcas de consoles desenvolvidos pela Microsoft e pela Sony, respectivamente. \n",
    "    Logo, consideramos como \"não relevante\" qualquer tipo de postagem que usasse o @ desses produtos apenas para promover algo próprio, como por exemplo um canal no YouTube, ou qualquer tipo de postagem que embora utilizasse dos nomes dos produtos, não se relacionava com o mesmo. \n",
    "    Assim consideramos como \"relevante\" qualquer tipo de postagem que trata-se de certa forma a opinião sobre os produtos em questão.`"
   ]
  },
  {
   "cell_type": "markdown",
   "metadata": {},
   "source": [
    "___\n",
    "### Montando um Classificador Naive-Bayes\n",
    "\n",
    "Considerando apenas as mensagens da planilha Treinamento, ensine  seu classificador."
   ]
  },
  {
   "cell_type": "code",
   "execution_count": 51,
   "metadata": {},
   "outputs": [],
   "source": [
    "#Célula com função para limpar o DF\n",
    "\n",
    "def cleanup(text):\n",
    "    \"\"\"\n",
    "        Função de limpeza muito simples que troca alguns sinais básicos por espaços\n",
    "    \"\"\"\n",
    "    #import string\n",
    "    punctuation = '[,!-.:?;]' # Note que os sinais [] são delimitadores de um conjunto.\n",
    "    pattern = re.compile(punctuation)\n",
    "    text_subbed = re.sub(pattern, '', text)\n",
    "    return text_subbed"
   ]
  },
  {
   "cell_type": "code",
   "execution_count": 52,
   "metadata": {},
   "outputs": [],
   "source": [
    "#Limpando o DF, transforando letras maiusculas em minusculas e passando o texto para uma lista de palavras\n",
    "\n",
    "todas_as_palavras_rel = []\n",
    "todas_as_palavras_irr = []\n",
    "\n",
    "for i, texto in enumerate(train.Treinamento):\n",
    "    texto = cleanup(str(texto).lower())\n",
    "    if train.Avaliação[i] == 5:\n",
    "        todas_as_palavras_irr += texto.split()\n",
    "    else: \n",
    "        todas_as_palavras_rel += texto.split()"
   ]
  },
  {
   "cell_type": "code",
   "execution_count": 53,
   "metadata": {},
   "outputs": [
    {
     "data": {
      "text/plain": [
       "['@emvideogame',\n",
       " '@xramoses',\n",
       " '@playstation_br',\n",
       " 'com',\n",
       " 'esse',\n",
       " 'reajuste',\n",
       " 'dos',\n",
       " 'serviços',\n",
       " 'do',\n",
       " 'xbox']"
      ]
     },
     "execution_count": 53,
     "metadata": {},
     "output_type": "execute_result"
    }
   ],
   "source": [
    "todas_as_palavras_irr[0:10]"
   ]
  },
  {
   "cell_type": "code",
   "execution_count": 54,
   "metadata": {},
   "outputs": [
    {
     "data": {
      "text/plain": [
       "['@robsonbrito204',\n",
       " '@isadorabasile',\n",
       " 'mmmmeeeeeeu',\n",
       " 'deeeeeeeeeeeeeeeuuuussss',\n",
       " 'o',\n",
       " 'retardado',\n",
       " 'joga',\n",
       " 'playstation',\n",
       " 'e',\n",
       " 'quer']"
      ]
     },
     "execution_count": 54,
     "metadata": {},
     "output_type": "execute_result"
    }
   ],
   "source": [
    "todas_as_palavras_rel[0:10]"
   ]
  },
  {
   "cell_type": "code",
   "execution_count": 55,
   "metadata": {
    "tags": []
   },
   "outputs": [],
   "source": [
    "#Transformando lista em um Series\n",
    "\n",
    "serie_palavras_rel = pd.Series(todas_as_palavras_rel)"
   ]
  },
  {
   "cell_type": "code",
   "execution_count": 56,
   "metadata": {},
   "outputs": [],
   "source": [
    "#Transformando lista em um Series\n",
    "\n",
    "serie_palavras_irr = pd.Series(todas_as_palavras_irr)"
   ]
  },
  {
   "cell_type": "code",
   "execution_count": 57,
   "metadata": {},
   "outputs": [
    {
     "data": {
      "text/plain": [
       "o              0.035734\n",
       "xbox           0.034308\n",
       "que            0.028207\n",
       "playstation    0.025196\n",
       "e              0.023295\n",
       "                 ...   \n",
       "@barnzjesse    0.000079\n",
       "roubalheira    0.000079\n",
       "3x2            0.000079\n",
       "irão           0.000079\n",
       "gddr6além      0.000079\n",
       "Length: 2803, dtype: float64"
      ]
     },
     "execution_count": 57,
     "metadata": {},
     "output_type": "execute_result"
    }
   ],
   "source": [
    "# Adquirindo a tabela de frequências relativas a partir de um dos Series criados acima\n",
    "\n",
    "tabela_tweets_relativa_rel = serie_palavras_rel.value_counts(True)\n",
    "tabela_tweets_relativa_rel"
   ]
  },
  {
   "cell_type": "code",
   "execution_count": 58,
   "metadata": {},
   "outputs": [
    {
     "data": {
      "text/plain": [
       "xbox                     0.033574\n",
       "playstation              0.028553\n",
       "de                       0.021964\n",
       "e                        0.021964\n",
       "a                        0.015061\n",
       "                           ...   \n",
       "scape                    0.000314\n",
       "https//tco/2jxih0kb57    0.000314\n",
       "galera                   0.000314\n",
       "23                       0.000314\n",
       "nintendo…                0.000314\n",
       "Length: 1281, dtype: float64"
      ]
     },
     "execution_count": 58,
     "metadata": {},
     "output_type": "execute_result"
    }
   ],
   "source": [
    "# Adquirindo a tabela de frequências relativas a partir de um dos Series criados acima\n",
    "\n",
    "tabela_tweets_relativa_irr = serie_palavras_irr.value_counts(True)\n",
    "tabela_tweets_relativa_irr"
   ]
  },
  {
   "cell_type": "code",
   "execution_count": 59,
   "metadata": {},
   "outputs": [],
   "source": [
    "#Limpando o DF, transforando letras maiusculas em minusculas e passando o texto para uma lista de palavras que representaram o conjunto LÍNGUA PORTUGUESA\n",
    "\n",
    "todas_as_palavras_test = []\n",
    "\n",
    "for texto in test.Teste:\n",
    "    texto = cleanup(str(texto).lower())\n",
    "    todas_as_palavras_test += texto.split()"
   ]
  },
  {
   "cell_type": "code",
   "execution_count": 60,
   "metadata": {},
   "outputs": [
    {
     "data": {
      "text/plain": [
       "xbox                     0.034761\n",
       "o                        0.031298\n",
       "playstation              0.025849\n",
       "que                      0.023653\n",
       "e                        0.023526\n",
       "                           ...   \n",
       "tretas                   0.000042\n",
       "@casei_shirota           0.000042\n",
       "https//tco/8pja5s7kgb    0.000042\n",
       "ums                      0.000042\n",
       "avisa                    0.000042\n",
       "Length: 4674, dtype: float64"
      ]
     },
     "execution_count": 60,
     "metadata": {},
     "output_type": "execute_result"
    }
   ],
   "source": [
    "#Transformando lista em um Series e adquirindo a tabela de frequências relativas a partir de um mesmo Series.\n",
    "\n",
    "portugues = todas_as_palavras_irr + todas_as_palavras_rel + todas_as_palavras_test\n",
    "serie_portugues = pd.Series(portugues)\n",
    "tabela_portugues_relativa = serie_portugues.value_counts(True)\n",
    "tabela_portugues_relativa"
   ]
  },
  {
   "cell_type": "code",
   "execution_count": 61,
   "metadata": {
    "tags": []
   },
   "outputs": [
    {
     "name": "stdout",
     "output_type": "stream",
     "text": [
      "0.2740693196405648 \n",
      "\n",
      " 0.5997004706889174\n"
     ]
    }
   ],
   "source": [
    "# Calculando a probabilidade de se ter um tweet Relativo e de um tweet Não Relativo\n",
    "\n",
    "probREL = len(tabela_tweets_relativa_irr) / len(tabela_portugues_relativa)\n",
    "\n",
    "probIRR = len(tabela_tweets_relativa_rel) / len(tabela_portugues_relativa)\n",
    "\n",
    "print(probREL, \"\\n\\n\", probIRR)"
   ]
  },
  {
   "cell_type": "code",
   "execution_count": 62,
   "metadata": {
    "tags": []
   },
   "outputs": [],
   "source": [
    "#CALCULANDO A PROBABILIDADE DE UM TWEET NA LINGUA PORTUGUESA\n",
    "\n",
    "for n, tweet in enumerate(test.Teste):\n",
    "\n",
    "    prob_tweet = 0\n",
    "\n",
    "    tweet = cleanup(str(tweet).lower())\n",
    "    tweet = tweet.split()\n",
    "\n",
    "    for i, word in enumerate(tweet):\n",
    "        if prob_tweet == 0:\n",
    "            prob_tweet = tabela_portugues_relativa[word]\n",
    "        else:\n",
    "            prob_tweet = prob_tweet * tabela_portugues_relativa[word]\n",
    "    # print(prob_tweet)\n",
    "    test.loc[n,'ProbTweet'] = prob_tweet"
   ]
  },
  {
   "cell_type": "code",
   "execution_count": 63,
   "metadata": {},
   "outputs": [],
   "source": [
    "#CALCULANDO A PROBABILIDADE DE UM TWEET DADO QUE É IRRELEVANTE\n",
    "\n",
    "for n, tweet in enumerate(test.Teste):\n",
    "\n",
    "    prob_tweet = 0\n",
    "\n",
    "    tweet = cleanup(str(tweet).lower())\n",
    "    tweet = tweet.split()\n",
    "\n",
    "    for i, word in enumerate(tweet):\n",
    "        if word in todas_as_palavras_irr:\n",
    "            if prob_tweet == 0:\n",
    "                prob_tweet = tabela_tweets_relativa_irr[word]\n",
    "            else:\n",
    "                prob_tweet = prob_tweet * tabela_tweets_relativa_irr[word]\n",
    "        \n",
    "        else: #ANA USEI ESSE ELSE PARA GARANTIR QUE AS PROBABILIDADES DE TODAS AS PALAVRAS SERÃO UTILIZADOS MAS CONFESSO QUE TO ENCOMODADO COM ELE ... OQ PODEMOS FAZER?\n",
    "            if prob_tweet == 0:\n",
    "                prob_tweet = tabela_portugues_relativa[word]\n",
    "            else:\n",
    "                prob_tweet = prob_tweet * tabela_portugues_relativa[word]\n",
    "        \n",
    "\n",
    "    test.loc[n,'ProbTweet_IRR'] = prob_tweet"
   ]
  },
  {
   "cell_type": "code",
   "execution_count": 64,
   "metadata": {},
   "outputs": [],
   "source": [
    "#CALCULANDO A PROBABILIDADE DE UM TWEET DADO QUE É RELEVANTE\n",
    "\n",
    "for n, tweet in enumerate(test.Teste):\n",
    "\n",
    "    prob_tweet = 0\n",
    "\n",
    "    tweet = cleanup(str(tweet).lower())\n",
    "    tweet = tweet.split()\n",
    "\n",
    "    for i, word in enumerate(tweet):\n",
    "        if word in todas_as_palavras_rel:\n",
    "            if prob_tweet == 0:\n",
    "                prob_tweet = tabela_tweets_relativa_rel[word]\n",
    "            else:\n",
    "                prob_tweet = prob_tweet * tabela_tweets_relativa_rel[word]\n",
    "        \n",
    "        else: #ANA USEI ESSE ELSE PARA GARANTIR QUE AS PROBABILIDADES DE TODAS AS PALAVRAS SERÃO UTILIZADOS MAS CONFESSO QUE TO ENCOMODADO COM ELE ... OQ PODEMOS FAZER?\n",
    "            if prob_tweet == 0:\n",
    "                prob_tweet = tabela_portugues_relativa[word]\n",
    "            else:\n",
    "                prob_tweet = prob_tweet * tabela_portugues_relativa[word]\n",
    "        \n",
    "    test.loc[n,'ProbTweet_REL'] = prob_tweet"
   ]
  },
  {
   "cell_type": "markdown",
   "metadata": {},
   "source": [
    "___\n",
    "### Verificando a performance do Classificador\n",
    "\n",
    "Agora você deve testar o seu classificador com a base de Testes."
   ]
  },
  {
   "cell_type": "code",
   "execution_count": 65,
   "metadata": {},
   "outputs": [],
   "source": [
    "#Dividindo entre Relevante ou Não de acordo com nossos critérios e nossas considerações\n",
    "\n",
    "test.loc[(test.Avaliação == 5),\"Rel_Or_Not\"] = 'No'\n",
    "test.loc[(test.Avaliação == 1),\"Rel_Or_Not\"] = 'Yes'\n",
    "test.loc[(test.Avaliação == 2),'Rel_Or_Not'] = 'Yes'\n",
    "test.loc[(test.Avaliação == 3),'Rel_Or_Not'] = 'Yes'"
   ]
  },
  {
   "cell_type": "code",
   "execution_count": 66,
   "metadata": {},
   "outputs": [],
   "source": [
    "# Célula responsável por classificar com base em probabilidades o que é ou não Relevante, ou seja, a que finaliza o Classificador\n",
    "\n",
    "for n, tweet in enumerate(test.Teste):\n",
    "\n",
    "    prob_rel_dado_tweet = test.loc[n, 'ProbTweet_REL'] * probREL / test.loc[n, 'ProbTweet']\n",
    "    prob_irr_dado_tweet = test.loc[n, 'ProbTweet_IRR'] * probIRR / test.loc[n, 'ProbTweet']\n",
    "\n",
    "    if prob_irr_dado_tweet > prob_rel_dado_tweet:\n",
    "        test.loc[n,\"ClassByRelevante\"] = \"No\"\n",
    "    else:\n",
    "        test.loc[n,\"ClassByRelevante\"] = \"Yes\""
   ]
  },
  {
   "cell_type": "code",
   "execution_count": 67,
   "metadata": {},
   "outputs": [
    {
     "data": {
      "text/html": [
       "<div>\n",
       "<style scoped>\n",
       "    .dataframe tbody tr th:only-of-type {\n",
       "        vertical-align: middle;\n",
       "    }\n",
       "\n",
       "    .dataframe tbody tr th {\n",
       "        vertical-align: top;\n",
       "    }\n",
       "\n",
       "    .dataframe thead th {\n",
       "        text-align: right;\n",
       "    }\n",
       "</style>\n",
       "<table border=\"1\" class=\"dataframe\">\n",
       "  <thead>\n",
       "    <tr style=\"text-align: right;\">\n",
       "      <th></th>\n",
       "      <th>Teste</th>\n",
       "      <th>Avaliação</th>\n",
       "      <th>ProbTweet</th>\n",
       "      <th>ProbTweet_IRR</th>\n",
       "      <th>ProbTweet_REL</th>\n",
       "      <th>Rel_Or_Not</th>\n",
       "      <th>ClassByRelevante</th>\n",
       "    </tr>\n",
       "  </thead>\n",
       "  <tbody>\n",
       "    <tr>\n",
       "      <th>0</th>\n",
       "      <td>@facundini_ @izzynobre eles tem praticamente t...</td>\n",
       "      <td>2</td>\n",
       "      <td>1.841252e-142</td>\n",
       "      <td>7.148110e-151</td>\n",
       "      <td>1.138881e-141</td>\n",
       "      <td>Yes</td>\n",
       "      <td>Yes</td>\n",
       "    </tr>\n",
       "    <tr>\n",
       "      <th>1</th>\n",
       "      <td>@traiinbe eu acho que se você é gamer hardcore...</td>\n",
       "      <td>1</td>\n",
       "      <td>1.947427e-95</td>\n",
       "      <td>5.442548e-98</td>\n",
       "      <td>2.590530e-97</td>\n",
       "      <td>Yes</td>\n",
       "      <td>Yes</td>\n",
       "    </tr>\n",
       "    <tr>\n",
       "      <th>2</th>\n",
       "      <td>@monstrohormonal @diegolt85 @playstation_br pe...</td>\n",
       "      <td>5</td>\n",
       "      <td>4.468554e-85</td>\n",
       "      <td>2.886953e-87</td>\n",
       "      <td>1.477572e-85</td>\n",
       "      <td>No</td>\n",
       "      <td>Yes</td>\n",
       "    </tr>\n",
       "    <tr>\n",
       "      <th>3</th>\n",
       "      <td>normalmente quem prefere android prefere xbox\\...</td>\n",
       "      <td>5</td>\n",
       "      <td>1.513235e-36</td>\n",
       "      <td>1.422830e-35</td>\n",
       "      <td>1.971364e-37</td>\n",
       "      <td>No</td>\n",
       "      <td>No</td>\n",
       "    </tr>\n",
       "    <tr>\n",
       "      <th>4</th>\n",
       "      <td>borderlands 3 será lançado para playstation 5 ...</td>\n",
       "      <td>5</td>\n",
       "      <td>2.024212e-31</td>\n",
       "      <td>4.402930e-29</td>\n",
       "      <td>4.469674e-33</td>\n",
       "      <td>No</td>\n",
       "      <td>No</td>\n",
       "    </tr>\n",
       "  </tbody>\n",
       "</table>\n",
       "</div>"
      ],
      "text/plain": [
       "                                               Teste  Avaliação  \\\n",
       "0  @facundini_ @izzynobre eles tem praticamente t...          2   \n",
       "1  @traiinbe eu acho que se você é gamer hardcore...          1   \n",
       "2  @monstrohormonal @diegolt85 @playstation_br pe...          5   \n",
       "3  normalmente quem prefere android prefere xbox\\...          5   \n",
       "4  borderlands 3 será lançado para playstation 5 ...          5   \n",
       "\n",
       "       ProbTweet  ProbTweet_IRR  ProbTweet_REL Rel_Or_Not ClassByRelevante  \n",
       "0  1.841252e-142  7.148110e-151  1.138881e-141        Yes              Yes  \n",
       "1   1.947427e-95   5.442548e-98   2.590530e-97        Yes              Yes  \n",
       "2   4.468554e-85   2.886953e-87   1.477572e-85         No              Yes  \n",
       "3   1.513235e-36   1.422830e-35   1.971364e-37         No               No  \n",
       "4   2.024212e-31   4.402930e-29   4.469674e-33         No               No  "
      ]
     },
     "execution_count": 67,
     "metadata": {},
     "output_type": "execute_result"
    }
   ],
   "source": [
    "test.head()"
   ]
  },
  {
   "cell_type": "code",
   "execution_count": 68,
   "metadata": {},
   "outputs": [
    {
     "data": {
      "text/html": [
       "<div>\n",
       "<style scoped>\n",
       "    .dataframe tbody tr th:only-of-type {\n",
       "        vertical-align: middle;\n",
       "    }\n",
       "\n",
       "    .dataframe tbody tr th {\n",
       "        vertical-align: top;\n",
       "    }\n",
       "\n",
       "    .dataframe thead th {\n",
       "        text-align: right;\n",
       "    }\n",
       "</style>\n",
       "<table border=\"1\" class=\"dataframe\">\n",
       "  <thead>\n",
       "    <tr style=\"text-align: right;\">\n",
       "      <th>ClassByRelevante</th>\n",
       "      <th>No</th>\n",
       "      <th>Yes</th>\n",
       "    </tr>\n",
       "    <tr>\n",
       "      <th>Rel_Or_Not</th>\n",
       "      <th></th>\n",
       "      <th></th>\n",
       "    </tr>\n",
       "  </thead>\n",
       "  <tbody>\n",
       "    <tr>\n",
       "      <th>No</th>\n",
       "      <td>63</td>\n",
       "      <td>25</td>\n",
       "    </tr>\n",
       "    <tr>\n",
       "      <th>Yes</th>\n",
       "      <td>23</td>\n",
       "      <td>166</td>\n",
       "    </tr>\n",
       "  </tbody>\n",
       "</table>\n",
       "</div>"
      ],
      "text/plain": [
       "ClassByRelevante  No  Yes\n",
       "Rel_Or_Not               \n",
       "No                63   25\n",
       "Yes               23  166"
      ]
     },
     "execution_count": 68,
     "metadata": {},
     "output_type": "execute_result"
    }
   ],
   "source": [
    "# Para analisar o classificador de sentimentos:\n",
    "\n",
    "pd.crosstab(test.Rel_Or_Not, test.ClassByRelevante)"
   ]
  },
  {
   "cell_type": "code",
   "execution_count": 71,
   "metadata": {},
   "outputs": [
    {
     "data": {
      "text/html": [
       "<div>\n",
       "<style scoped>\n",
       "    .dataframe tbody tr th:only-of-type {\n",
       "        vertical-align: middle;\n",
       "    }\n",
       "\n",
       "    .dataframe tbody tr th {\n",
       "        vertical-align: top;\n",
       "    }\n",
       "\n",
       "    .dataframe thead th {\n",
       "        text-align: right;\n",
       "    }\n",
       "</style>\n",
       "<table border=\"1\" class=\"dataframe\">\n",
       "  <thead>\n",
       "    <tr style=\"text-align: right;\">\n",
       "      <th>ClassByRelevante</th>\n",
       "      <th>No</th>\n",
       "      <th>Yes</th>\n",
       "    </tr>\n",
       "    <tr>\n",
       "      <th>Rel_Or_Not</th>\n",
       "      <th></th>\n",
       "      <th></th>\n",
       "    </tr>\n",
       "  </thead>\n",
       "  <tbody>\n",
       "    <tr>\n",
       "      <th>No</th>\n",
       "      <td>71.590909</td>\n",
       "      <td>28.409091</td>\n",
       "    </tr>\n",
       "    <tr>\n",
       "      <th>Yes</th>\n",
       "      <td>12.169312</td>\n",
       "      <td>87.830688</td>\n",
       "    </tr>\n",
       "  </tbody>\n",
       "</table>\n",
       "</div>"
      ],
      "text/plain": [
       "ClassByRelevante         No        Yes\n",
       "Rel_Or_Not                            \n",
       "No                71.590909  28.409091\n",
       "Yes               12.169312  87.830688"
      ]
     },
     "execution_count": 71,
     "metadata": {},
     "output_type": "execute_result"
    }
   ],
   "source": [
    "pd.crosstab(test.Rel_Or_Not, test.ClassByRelevante, normalize = \"index\")*100"
   ]
  },
  {
   "cell_type": "code",
   "execution_count": 103,
   "metadata": {},
   "outputs": [
    {
     "name": "stdout",
     "output_type": "stream",
     "text": [
      "O modelo classificou corretamente 82.67% dos dados de treinamento.\n",
      "O modelo classificou errado 17.33% dos dados de treinamento.\n"
     ]
    }
   ],
   "source": [
    "pos_v = test.Rel_Or_Not == \"Yes\"\n",
    "neg_v = test.Rel_Or_Not == \"No\"\n",
    "pos_c = test.ClassByRelevante == \"Yes\"\n",
    "neg_c = test.ClassByRelevante == \"No\"\n",
    "\n",
    "acerto_sim = test.loc[pos_v & pos_c, :]\n",
    "acerto_nao = test.loc[neg_v & neg_c, :]\n",
    "erro_sim = test.loc[pos_v & neg_c, :]\n",
    "erro_nao = test.loc[neg_v & pos_c, :]\n",
    "\n",
    "acerto = (len(acerto_sim) + len(acerto_nao))/len(test)*100      \n",
    "print(f\"O modelo classificou corretamente {acerto :.2f}% dos dados de treinamento.\")\n",
    "\n",
    "erro = (len(erro_sim) + len(erro_nao))/len(test)*100      \n",
    "print(f\"O modelo classificou errado {erro :.2f}% dos dados de treinamento.\")"
   ]
  },
  {
   "cell_type": "markdown",
   "metadata": {},
   "source": [
    "___\n",
    "### Concluindo"
   ]
  },
  {
   "cell_type": "code",
   "execution_count": null,
   "metadata": {},
   "outputs": [],
   "source": []
  },
  {
   "cell_type": "code",
   "execution_count": null,
   "metadata": {},
   "outputs": [],
   "source": []
  },
  {
   "cell_type": "markdown",
   "metadata": {},
   "source": [
    "___\n",
    "## Aperfeiçoamento:\n",
    "\n",
    "Os trabalhos vão evoluir em conceito dependendo da quantidade de itens avançados:\n",
    "\n",
    "* Limpar: \\n, :, \", ', (, ), etc SEM remover emojis\n",
    "* Corrigir separação de espaços entre palavras e emojis ou entre emojis e emojis\n",
    "* Propor outras limpezas e transformações que não afetem a qualidade da informação ou classificação\n",
    "* Criar categorias intermediárias de relevância baseadas na probabilidade: ex.: muito relevante, relevante, neutro, irrelevante, muito irrelevante (3 categorias: C, mais categorias conta para B)\n",
    "* Explicar por que não posso usar o próprio classificador para gerar mais amostras de treinamento\n",
    "* Propor diferentes cenários para Naïve Bayes fora do contexto do projeto\n",
    "* Sugerir e explicar melhorias reais com indicações concretas de como implementar (indicar como fazer e indicar material de pesquisa)\n",
    "* Montar um dashboard que realiza análise de sentimento e visualiza estes dados"
   ]
  },
  {
   "cell_type": "markdown",
   "metadata": {},
   "source": [
    "___\n",
    "## Referências"
   ]
  },
  {
   "cell_type": "markdown",
   "metadata": {},
   "source": [
    "[Naive Bayes and Text Classification](https://arxiv.org/pdf/1410.5329.pdf)  **Mais completo**\n",
    "\n",
    "[A practical explanation of a Naive Bayes Classifier](https://monkeylearn.com/blog/practical-explanation-naive-bayes-classifier/) **Mais simples**"
   ]
  },
  {
   "cell_type": "code",
   "execution_count": null,
   "metadata": {},
   "outputs": [],
   "source": []
  }
 ],
 "metadata": {
  "kernelspec": {
   "display_name": "Python 3",
   "language": "python",
   "name": "python3"
  },
  "language_info": {
   "codemirror_mode": {
    "name": "ipython",
    "version": 3
   },
   "file_extension": ".py",
   "mimetype": "text/x-python",
   "name": "python",
   "nbconvert_exporter": "python",
   "pygments_lexer": "ipython3",
   "version": "3.8.3"
  }
 },
 "nbformat": 4,
 "nbformat_minor": 4
}
